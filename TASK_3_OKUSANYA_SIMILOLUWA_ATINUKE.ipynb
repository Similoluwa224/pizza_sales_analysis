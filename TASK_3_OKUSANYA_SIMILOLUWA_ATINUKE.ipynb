{
 "cells": [
  {
   "cell_type": "markdown",
   "id": "05080013",
   "metadata": {},
   "source": [
    "# **PIZZA SALES ANALYSIS REPORT**\n",
    "## *PRESENTED BY OKUSANYA A. SIMILOLUWA*"
   ]
  },
  {
   "cell_type": "markdown",
   "id": "308c1403",
   "metadata": {},
   "source": [
    "# **Table of Contents**\n",
    "- [Introduction](#introduction)\n",
    "- [Pizza Place Sales Data](#pizza-place-sales-data)\n",
    "- [Recommended Analysis](#recommended-analysis)\n",
    "    - [Total Revenue](#1-total-revenue)\n",
    "    - [Total Quantity Sold](#2-total-quantity-sold)\n",
    "    - [Total Number of Orders](#3-total-number-of-orders)\n",
    "    - [Unique Pizza Types Sold](#4-unique-pizza-types-sold)\n",
    "    - [Average Pizza Price](#5-average-pizza-price)\n",
    "    - [Peak Sales Hours](#6-peak-sales-hours)\n",
    "    - [Sales by Day of the Week](#7-sales-by-day-of-the-week)\n",
    "    - [Top 5 Bestselling Pizzas](#8-top-5-bestselling-pizzas)\n",
    "    - [Monthly Sales Trend](#9-monthly-sales-trend)\n",
    "    - [Poor Performing Pizzas](#10-poor-performing-pizzas)"
   ]
  },
  {
   "cell_type": "markdown",
   "id": "4073eab0",
   "metadata": {},
   "source": [
    "# **Introduction**\n",
    "The zip file for the task named “Pizza+Place+Sales.zip” was uploaded on the techcrush drive. It contains four CSV files: Orders, Order Details, Pizzas, and Pizza Types. There is also a data dictionary that describes each dataset."
   ]
  },
  {
   "cell_type": "code",
   "execution_count": 3,
   "id": "c63926e2",
   "metadata": {},
   "outputs": [],
   "source": [
    "import pandas as pd"
   ]
  },
  {
   "cell_type": "code",
   "execution_count": null,
   "id": "d0f95342",
   "metadata": {},
   "outputs": [
    {
     "data": {
      "text/plain": [
       "(   order_id        date      time\n",
       " 0         1  2015-01-01  11:38:36\n",
       " 1         2  2015-01-01  11:57:40\n",
       " 2         3  2015-01-01  12:12:28\n",
       " 3         4  2015-01-01  12:16:31\n",
       " 4         5  2015-01-01  12:21:30,\n",
       "    order_details_id  order_id       pizza_id  quantity\n",
       " 0                 1         1     hawaiian_m         1\n",
       " 1                 2         2  classic_dlx_m         1\n",
       " 2                 3         2  five_cheese_l         1\n",
       " 3                 4         2    ital_supr_l         1\n",
       " 4                 5         2     mexicana_m         1,\n",
       "      pizza_id pizza_type_id size  price\n",
       " 0   bbq_ckn_s       bbq_ckn    S  12.75\n",
       " 1   bbq_ckn_m       bbq_ckn    M  16.75\n",
       " 2   bbq_ckn_l       bbq_ckn    L  20.75\n",
       " 3  cali_ckn_s      cali_ckn    S  12.75\n",
       " 4  cali_ckn_m      cali_ckn    M  16.75,\n",
       "   pizza_type_id                          name category  \\\n",
       " 0       bbq_ckn    The Barbecue Chicken Pizza  Chicken   \n",
       " 1      cali_ckn  The California Chicken Pizza  Chicken   \n",
       " 2   ckn_alfredo     The Chicken Alfredo Pizza  Chicken   \n",
       " 3     ckn_pesto       The Chicken Pesto Pizza  Chicken   \n",
       " 4    southw_ckn   The Southwest Chicken Pizza  Chicken   \n",
       " \n",
       "                                          ingredients  \n",
       " 0  Barbecued Chicken, Red Peppers, Green Peppers,...  \n",
       " 1  Chicken, Artichoke, Spinach, Garlic, Jalapeno ...  \n",
       " 2  Chicken, Red Onions, Red Peppers, Mushrooms, A...  \n",
       " 3  Chicken, Tomatoes, Red Peppers, Spinach, Garli...  \n",
       " 4  Chicken, Tomatoes, Red Peppers, Red Onions, Ja...  )"
      ]
     },
     "execution_count": 4,
     "metadata": {},
     "output_type": "execute_result"
    }
   ],
   "source": [
    "# Load datasets\n",
    "orders = pd.read_csv(\"data/orders.csv\")\n",
    "order_details = pd.read_csv(\"data/order_details.csv\")\n",
    "pizzas = pd.read_csv(\"data/pizzas.csv\")\n",
    "pizza_types = pd.read_csv(\"data/pizza_types.csv\", encoding= \"ISO-8859-1\" )\n",
    "\n",
    "# Display previews\n",
    "orders.head(), order_details.head(), pizzas.head(), pizza_types.head()"
   ]
  },
  {
   "cell_type": "markdown",
   "id": "59924bef",
   "metadata": {},
   "source": [
    "# **Pizza Place Sales Data**\n",
    "A year's worth of sales from a fictitious pizza place, including the date and time of each order and the pizzas served, with additional details on the type, size, quantity, price, and ingredients. The four CSV files was merged into a single data frame before analysis was done."
   ]
  },
  {
   "cell_type": "code",
   "execution_count": 5,
   "id": "3829c755",
   "metadata": {},
   "outputs": [
    {
     "data": {
      "text/html": [
       "<div>\n",
       "<style scoped>\n",
       "    .dataframe tbody tr th:only-of-type {\n",
       "        vertical-align: middle;\n",
       "    }\n",
       "\n",
       "    .dataframe tbody tr th {\n",
       "        vertical-align: top;\n",
       "    }\n",
       "\n",
       "    .dataframe thead th {\n",
       "        text-align: right;\n",
       "    }\n",
       "</style>\n",
       "<table border=\"1\" class=\"dataframe\">\n",
       "  <thead>\n",
       "    <tr style=\"text-align: right;\">\n",
       "      <th></th>\n",
       "      <th>order_details_id</th>\n",
       "      <th>order_id</th>\n",
       "      <th>pizza_id</th>\n",
       "      <th>quantity</th>\n",
       "      <th>pizza_type_id</th>\n",
       "      <th>size</th>\n",
       "      <th>price</th>\n",
       "      <th>date</th>\n",
       "      <th>time</th>\n",
       "      <th>name</th>\n",
       "      <th>category</th>\n",
       "      <th>ingredients</th>\n",
       "      <th>hour</th>\n",
       "      <th>weekday</th>\n",
       "      <th>month</th>\n",
       "      <th>revenue</th>\n",
       "    </tr>\n",
       "  </thead>\n",
       "  <tbody>\n",
       "    <tr>\n",
       "      <th>0</th>\n",
       "      <td>1</td>\n",
       "      <td>1</td>\n",
       "      <td>hawaiian_m</td>\n",
       "      <td>1</td>\n",
       "      <td>hawaiian</td>\n",
       "      <td>M</td>\n",
       "      <td>13.25</td>\n",
       "      <td>2015-01-01</td>\n",
       "      <td>11:38:36</td>\n",
       "      <td>The Hawaiian Pizza</td>\n",
       "      <td>Classic</td>\n",
       "      <td>Sliced Ham, Pineapple, Mozzarella Cheese</td>\n",
       "      <td>11</td>\n",
       "      <td>Thursday</td>\n",
       "      <td>January</td>\n",
       "      <td>13.25</td>\n",
       "    </tr>\n",
       "    <tr>\n",
       "      <th>1</th>\n",
       "      <td>2</td>\n",
       "      <td>2</td>\n",
       "      <td>classic_dlx_m</td>\n",
       "      <td>1</td>\n",
       "      <td>classic_dlx</td>\n",
       "      <td>M</td>\n",
       "      <td>16.00</td>\n",
       "      <td>2015-01-01</td>\n",
       "      <td>11:57:40</td>\n",
       "      <td>The Classic Deluxe Pizza</td>\n",
       "      <td>Classic</td>\n",
       "      <td>Pepperoni, Mushrooms, Red Onions, Red Peppers,...</td>\n",
       "      <td>11</td>\n",
       "      <td>Thursday</td>\n",
       "      <td>January</td>\n",
       "      <td>16.00</td>\n",
       "    </tr>\n",
       "    <tr>\n",
       "      <th>2</th>\n",
       "      <td>3</td>\n",
       "      <td>2</td>\n",
       "      <td>five_cheese_l</td>\n",
       "      <td>1</td>\n",
       "      <td>five_cheese</td>\n",
       "      <td>L</td>\n",
       "      <td>18.50</td>\n",
       "      <td>2015-01-01</td>\n",
       "      <td>11:57:40</td>\n",
       "      <td>The Five Cheese Pizza</td>\n",
       "      <td>Veggie</td>\n",
       "      <td>Mozzarella Cheese, Provolone Cheese, Smoked Go...</td>\n",
       "      <td>11</td>\n",
       "      <td>Thursday</td>\n",
       "      <td>January</td>\n",
       "      <td>18.50</td>\n",
       "    </tr>\n",
       "    <tr>\n",
       "      <th>3</th>\n",
       "      <td>4</td>\n",
       "      <td>2</td>\n",
       "      <td>ital_supr_l</td>\n",
       "      <td>1</td>\n",
       "      <td>ital_supr</td>\n",
       "      <td>L</td>\n",
       "      <td>20.75</td>\n",
       "      <td>2015-01-01</td>\n",
       "      <td>11:57:40</td>\n",
       "      <td>The Italian Supreme Pizza</td>\n",
       "      <td>Supreme</td>\n",
       "      <td>Calabrese Salami, Capocollo, Tomatoes, Red Oni...</td>\n",
       "      <td>11</td>\n",
       "      <td>Thursday</td>\n",
       "      <td>January</td>\n",
       "      <td>20.75</td>\n",
       "    </tr>\n",
       "    <tr>\n",
       "      <th>4</th>\n",
       "      <td>5</td>\n",
       "      <td>2</td>\n",
       "      <td>mexicana_m</td>\n",
       "      <td>1</td>\n",
       "      <td>mexicana</td>\n",
       "      <td>M</td>\n",
       "      <td>16.00</td>\n",
       "      <td>2015-01-01</td>\n",
       "      <td>11:57:40</td>\n",
       "      <td>The Mexicana Pizza</td>\n",
       "      <td>Veggie</td>\n",
       "      <td>Tomatoes, Red Peppers, Jalapeno Peppers, Red O...</td>\n",
       "      <td>11</td>\n",
       "      <td>Thursday</td>\n",
       "      <td>January</td>\n",
       "      <td>16.00</td>\n",
       "    </tr>\n",
       "  </tbody>\n",
       "</table>\n",
       "</div>"
      ],
      "text/plain": [
       "   order_details_id  order_id       pizza_id  quantity pizza_type_id size  \\\n",
       "0                 1         1     hawaiian_m         1      hawaiian    M   \n",
       "1                 2         2  classic_dlx_m         1   classic_dlx    M   \n",
       "2                 3         2  five_cheese_l         1   five_cheese    L   \n",
       "3                 4         2    ital_supr_l         1     ital_supr    L   \n",
       "4                 5         2     mexicana_m         1      mexicana    M   \n",
       "\n",
       "   price       date      time                       name category  \\\n",
       "0  13.25 2015-01-01  11:38:36         The Hawaiian Pizza  Classic   \n",
       "1  16.00 2015-01-01  11:57:40   The Classic Deluxe Pizza  Classic   \n",
       "2  18.50 2015-01-01  11:57:40      The Five Cheese Pizza   Veggie   \n",
       "3  20.75 2015-01-01  11:57:40  The Italian Supreme Pizza  Supreme   \n",
       "4  16.00 2015-01-01  11:57:40         The Mexicana Pizza   Veggie   \n",
       "\n",
       "                                         ingredients  hour   weekday    month  \\\n",
       "0           Sliced Ham, Pineapple, Mozzarella Cheese    11  Thursday  January   \n",
       "1  Pepperoni, Mushrooms, Red Onions, Red Peppers,...    11  Thursday  January   \n",
       "2  Mozzarella Cheese, Provolone Cheese, Smoked Go...    11  Thursday  January   \n",
       "3  Calabrese Salami, Capocollo, Tomatoes, Red Oni...    11  Thursday  January   \n",
       "4  Tomatoes, Red Peppers, Jalapeno Peppers, Red O...    11  Thursday  January   \n",
       "\n",
       "   revenue  \n",
       "0    13.25  \n",
       "1    16.00  \n",
       "2    18.50  \n",
       "3    20.75  \n",
       "4    16.00  "
      ]
     },
     "execution_count": 5,
     "metadata": {},
     "output_type": "execute_result"
    }
   ],
   "source": [
    "# Merge order_details with pizzas\n",
    "merged_df = order_details.merge(pizzas, on='pizza_id', how='left')\n",
    "\n",
    "# Merge with orders to get datetime\n",
    "merged_df = merged_df.merge(orders, on='order_id', how='left')\n",
    "\n",
    "# Merge with pizza_types to get type/category\n",
    "merged_df = merged_df.merge(pizza_types, on='pizza_type_id', how='left')\n",
    "\n",
    "# Convert date and time\n",
    "merged_df['date'] = pd.to_datetime(merged_df['date'])\n",
    "merged_df['time'] = pd.to_datetime(merged_df['time'], format='%H:%M:%S').dt.time\n",
    "merged_df['hour'] = pd.to_datetime(merged_df['time'], format='%H:%M:%S').dt.hour\n",
    "merged_df['weekday'] = merged_df['date'].dt.day_name()\n",
    "merged_df['month'] = merged_df['date'].dt.month_name()\n",
    "\n",
    "# Calculate revenue per row\n",
    "merged_df['revenue'] = merged_df['quantity'] * merged_df['price']\n",
    "\n",
    "merged_df.head()\n"
   ]
  },
  {
   "cell_type": "code",
   "execution_count": null,
   "id": "f5a75fad",
   "metadata": {},
   "outputs": [],
   "source": []
  },
  {
   "cell_type": "markdown",
   "id": "dedd900d",
   "metadata": {},
   "source": [
    "# **Recommended Analysis**"
   ]
  },
  {
   "cell_type": "markdown",
   "id": "c8c7e1f8",
   "metadata": {},
   "source": [
    "## 1. TOTAL REVENUE"
   ]
  },
  {
   "cell_type": "code",
   "execution_count": null,
   "id": "254e84b2",
   "metadata": {},
   "outputs": [
    {
     "data": {
      "text/plain": [
       "817860.05"
      ]
     },
     "execution_count": 9,
     "metadata": {},
     "output_type": "execute_result"
    }
   ],
   "source": [
    "# What is the total revenue/sales?\n",
    "merged_df['revenue'].sum() # This line sums all the revenue generated per row in the dataset."
   ]
  },
  {
   "cell_type": "markdown",
   "id": "03d1ed5e",
   "metadata": {},
   "source": [
    "### The total revenue generated over the year is approximately **$817,860**."
   ]
  },
  {
   "cell_type": "markdown",
   "id": "ce1cdf02",
   "metadata": {},
   "source": [
    "## 2. TOTAL QUANTITY SOLD"
   ]
  },
  {
   "cell_type": "code",
   "execution_count": null,
   "id": "b2c59d32",
   "metadata": {},
   "outputs": [
    {
     "data": {
      "text/plain": [
       "49574"
      ]
     },
     "execution_count": 11,
     "metadata": {},
     "output_type": "execute_result"
    }
   ],
   "source": [
    "# Find the total quantity sold\n",
    "merged_df['quantity'].sum() # This line adds all quantities of pizza sold as shown in the dataset."
   ]
  },
  {
   "cell_type": "markdown",
   "id": "dedb4396",
   "metadata": {},
   "source": [
    "### The total quantity sold is **49,574**."
   ]
  },
  {
   "cell_type": "markdown",
   "id": "564166ca",
   "metadata": {},
   "source": [
    "## 3. TOTAL NUMBER OF ORDERS"
   ]
  },
  {
   "cell_type": "code",
   "execution_count": null,
   "id": "5a6d5260",
   "metadata": {},
   "outputs": [
    {
     "data": {
      "text/plain": [
       "21350"
      ]
     },
     "execution_count": 12,
     "metadata": {},
     "output_type": "execute_result"
    }
   ],
   "source": [
    "# 3.Find the total orders\n",
    "orders['order_id'].nunique() # This line counts the total orders of pizza in the dataset."
   ]
  },
  {
   "cell_type": "markdown",
   "id": "50db0435",
   "metadata": {},
   "source": [
    "### The total number of orders is **21,350**."
   ]
  },
  {
   "cell_type": "markdown",
   "id": "0f9a25fc",
   "metadata": {},
   "source": [
    "## 4. UNIQUE PIZZA TYPES SOLD"
   ]
  },
  {
   "cell_type": "code",
   "execution_count": null,
   "id": "dc2a55ee",
   "metadata": {},
   "outputs": [
    {
     "data": {
      "text/plain": [
       "32"
      ]
     },
     "execution_count": 13,
     "metadata": {},
     "output_type": "execute_result"
    }
   ],
   "source": [
    "# How many pizza types do they sell?\n",
    "pizza_types['pizza_type_id'].nunique() # This line counts the number of unique pizza types in the dataset."
   ]
  },
  {
   "cell_type": "markdown",
   "id": "2a4d7c8d",
   "metadata": {},
   "source": [
    "### There are **32 unique pizza types** sold."
   ]
  },
  {
   "cell_type": "markdown",
   "id": "fb5714c3",
   "metadata": {},
   "source": [
    "## 5. AVERAGE PIZZA PRICE"
   ]
  },
  {
   "cell_type": "code",
   "execution_count": null,
   "id": "674018d8",
   "metadata": {},
   "outputs": [
    {
     "data": {
      "text/plain": [
       "16.440625"
      ]
     },
     "execution_count": 14,
     "metadata": {},
     "output_type": "execute_result"
    }
   ],
   "source": [
    "# Find the average price of the pizzas\n",
    "pizzas['price'].mean() # This line calculates the average price of all the pizzas offered in the menu"
   ]
  },
  {
   "cell_type": "markdown",
   "id": "a1215b46",
   "metadata": {},
   "source": [
    "### The average price of the pizzas is approximately **$16**."
   ]
  },
  {
   "cell_type": "markdown",
   "id": "05660af0",
   "metadata": {},
   "source": [
    "## 6. PEAK SALES HOURS"
   ]
  },
  {
   "cell_type": "code",
   "execution_count": null,
   "id": "0f914ff0",
   "metadata": {},
   "outputs": [
    {
     "name": "stderr",
     "output_type": "stream",
     "text": [
      "Matplotlib is building the font cache; this may take a moment.\n"
     ]
    },
    {
     "data": {
      "text/plain": [
       "<Axes: title={'center': 'Sales by Hour'}, xlabel='hour'>"
      ]
     },
     "execution_count": 15,
     "metadata": {},
     "output_type": "execute_result"
    },
    {
     "data": {
      "image/png": "[encoded data removed]",
      "text/plain": [
       "<Figure size 640x480 with 1 Axes>"
      ]
     },
     "metadata": {},
     "output_type": "display_data"
    }
   ],
   "source": [
    "# What are the peak hours of sales?\n",
    "\n",
    "merged_df.groupby('hour')['revenue'].sum().plot(kind='bar', title=\"Sales by Hour\") \n",
    "\n",
    "# This line calculates the total revenue made at specific hours of all the weekdays (by adding all the revenue generated each hour of the day), and visualizes data in chronological order in a bar chart."
   ]
  },
  {
   "cell_type": "markdown",
   "id": "922e1d85",
   "metadata": {},
   "source": [
    "### Peak Sales Hours\n",
    "The bar chart above shows total revenue generated during each hour of the day. Sales peak the highest at **12PM**.\n"
   ]
  },
  {
   "cell_type": "markdown",
   "id": "124b8263",
   "metadata": {},
   "source": [
    "## 7. SALES BY DAY OF THE WEEK"
   ]
  },
  {
   "cell_type": "code",
   "execution_count": null,
   "id": "f6301a36",
   "metadata": {},
   "outputs": [
    {
     "data": {
      "text/plain": [
       "<Axes: title={'center': 'Sales by Weekday'}, xlabel='weekday'>"
      ]
     },
     "execution_count": 16,
     "metadata": {},
     "output_type": "execute_result"
    },
    {
     "data": {
      "image/png": "[encoded data removed]",
      "text/plain": [
       "<Figure size 640x480 with 1 Axes>"
      ]
     },
     "metadata": {},
     "output_type": "display_data"
    }
   ],
   "source": [
    "# Find the total sales made on each day of the week. \n",
    "# Which day of the week is when sales are made the most?\n",
    "\n",
    "merged_df.groupby('weekday')['revenue'].sum().sort_values().plot(kind='bar', title=\"Sales by Weekday\")\n",
    "\n",
    "# This line calculates the sales made per day (by adding all the revenue generated each weekday), sorts the info in ascending order, and visualizes data in a bar chart."
   ]
  },
  {
   "cell_type": "markdown",
   "id": "878a154e",
   "metadata": {},
   "source": [
    "### Total Sales Made Per Day\n",
    "The bar chart above shows the total sales made on each day of the week. Sales are made the most on **Fridays**."
   ]
  },
  {
   "cell_type": "markdown",
   "id": "e1bc52cb",
   "metadata": {},
   "source": [
    "## 8. TOP 5 BESTSELLING PIZZAS"
   ]
  },
  {
   "cell_type": "code",
   "execution_count": null,
   "id": "37009efe",
   "metadata": {},
   "outputs": [
    {
     "data": {
      "text/plain": [
       "pizza_id\n",
       "big_meat_s       1914\n",
       "thai_ckn_l       1410\n",
       "five_cheese_l    1409\n",
       "four_cheese_l    1316\n",
       "classic_dlx_m    1181\n",
       "Name: quantity, dtype: int64"
      ]
     },
     "execution_count": 19,
     "metadata": {},
     "output_type": "execute_result"
    }
   ],
   "source": [
    "# Find the top 5 bestselling pizzas\n",
    "\n",
    "merged_df.groupby('pizza_id')['quantity'].sum().sort_values(ascending=False).head(5)\n",
    "\n",
    "# This line calculates the quantity of each pizza sold, sorts the info in descending order, and returns the first 5."
   ]
  },
  {
   "cell_type": "markdown",
   "id": "6d5691f6",
   "metadata": {},
   "source": [
    "### Top 5 Bestselling Pizzas\n",
    "\n",
    "The top 5 bestselling pizzas by quantity sold are displayed above. These include **The Big Meat Pizza (small)**, **The Thai Chicken Pizza (large)**, **The Five Cheese Pizza (large)**, **The Four Cheese Pizza (large)**, and **The Classic Deluxe Pizza (medium)**.\n"
   ]
  },
  {
   "cell_type": "markdown",
   "id": "85bd322f",
   "metadata": {},
   "source": [
    "## 9. MONTHLY SALES TREND"
   ]
  },
  {
   "cell_type": "code",
   "execution_count": null,
   "id": "daf2d3fd",
   "metadata": {},
   "outputs": [
    {
     "data": {
      "text/plain": [
       "<Axes: title={'center': 'Monthly Sales'}, xlabel='month'>"
      ]
     },
     "execution_count": 22,
     "metadata": {},
     "output_type": "execute_result"
    },
    {
     "data": {
      "image/png": "[encoded data removed]",
      "text/plain": [
       "<Figure size 640x480 with 1 Axes>"
      ]
     },
     "metadata": {},
     "output_type": "display_data"
    }
   ],
   "source": [
    "# 9.Find the sales made in each month.\n",
    "\n",
    "merged_df.groupby('month')['revenue'].sum().sort_values().plot(kind='bar', title=\"Monthly Sales\")\n",
    "\n",
    "# This line calculates the sales made per month (by adding all the revenue generated each month), sorts the info in ascending order, and visualizes data in a bar chart."
   ]
  },
  {
   "cell_type": "markdown",
   "id": "12e1eac9",
   "metadata": {},
   "source": [
    "### Months with the Highest and Lowest Sales\n",
    "**July** has the highest monthly sales, while **October** has the lowest monthly sales."
   ]
  },
  {
   "cell_type": "code",
   "execution_count": null,
   "id": "6ecc6dd8",
   "metadata": {},
   "outputs": [
    {
     "data": {
      "text/plain": [
       "<Axes: title={'center': 'Monthly Sales'}, xlabel='month'>"
      ]
     },
     "execution_count": 20,
     "metadata": {},
     "output_type": "execute_result"
    },
    {
     "data": {
      "image/png": "[encoded data removed]",
      "text/plain": [
       "<Figure size 640x480 with 1 Axes>"
      ]
     },
     "metadata": {},
     "output_type": "display_data"
    }
   ],
   "source": [
    "# Any trend noticeable?\n",
    "\n",
    "monthly_sales = merged_df.groupby('month')['revenue'].sum().reindex(['January', 'February', 'March', 'April', 'May', 'June','July', 'August', 'September', 'October', 'November', 'December']) \n",
    "# This line calculates the sales made per month (by adding all the revenue generated each month), and arranges the info in chronological order (calendar order).\n",
    "\n",
    "monthly_sales.plot(kind='bar', title=\"Monthly Sales\") # This line visualizes the data in a bar chart.\n"
   ]
  },
  {
   "cell_type": "markdown",
   "id": "2495cb24",
   "metadata": {},
   "source": [
    "### Monthly Sales Analysis\n",
    "\n",
    "Sales were highest in **July**, possibly due to summer demand. There's a noticeable dip in **September and October**, suggesting slower business during that period. Despite these fluctuations, monthly sales remain relatively stable throughout the year. The increase in **November** may hint at early holiday season impact."
   ]
  },
  {
   "cell_type": "markdown",
   "id": "9d76c4da",
   "metadata": {},
   "source": [
    "## 10. POOR PERFORMING PIZZAS"
   ]
  },
  {
   "cell_type": "code",
   "execution_count": null,
   "id": "874d740e",
   "metadata": {},
   "outputs": [
    {
     "data": {
      "text/plain": [
       "pizza_id\n",
       "the_greek_xxl      28\n",
       "green_garden_l     95\n",
       "ckn_alfredo_s      96\n",
       "calabrese_s        99\n",
       "mexicana_s        162\n",
       "ckn_alfredo_l     188\n",
       "ital_veggie_l     190\n",
       "ital_supr_s       196\n",
       "the_greek_l       255\n",
       "spinach_supr_m    267\n",
       "Name: quantity, dtype: int64"
      ]
     },
     "execution_count": 23,
     "metadata": {},
     "output_type": "execute_result"
    }
   ],
   "source": [
    "# Are there pizza types that are not doing well on the menu?\n",
    "\n",
    "merged_df.groupby('pizza_id')['quantity'].sum().sort_values().head(10)\n",
    "\n",
    "# This line calculates the quantity of each pizza sold, sorts the info in ascending order, and returns the first 10."
   ]
  },
  {
   "cell_type": "markdown",
   "id": "051c624f",
   "metadata": {},
   "source": [
    "### Least Performing Pizzas\n",
    "\n",
    "The 10 pizzas with the lowest sales volume are listed above. These include **The Greek Pizza (extra extra large)**, **The Green Garden Pizza (large)**, **The Chicken Alfredo Pizza (small)**, **The Calabrese Pizza (small)**, **The Mexicana Pizza (small)**, **The Chicken Alfredo Pizza (large)**, **The Italian Vegetables Pizza (large)**, **The Italian Supreme Pizza (small)**, **The Greek Pizza (large)**, and **The Spinach Supreme Pizza (medium)**.These underperforming items might be candidates for removal or reevaluation. Their poor sales could be due to factors like low customer demand, poor marketing, unusual ingredients, or limited availability in certain sizes.\n"
   ]
  }
 ],
 "metadata": {
  "kernelspec": {
   "display_name": "base",
   "language": "python",
   "name": "python3"
  },
  "language_info": {
   "codemirror_mode": {
    "name": "ipython",
    "version": 3
   },
   "file_extension": ".py",
   "mimetype": "text/x-python",
   "name": "python",
   "nbconvert_exporter": "python",
   "pygments_lexer": "ipython3",
   "version": "3.12.7"
  }
 },
 "nbformat": 4,
 "nbformat_minor": 5
}
